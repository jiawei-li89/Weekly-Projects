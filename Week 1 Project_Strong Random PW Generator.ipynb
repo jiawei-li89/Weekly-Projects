{
 "cells": [
  {
   "cell_type": "code",
   "execution_count": 1,
   "metadata": {},
   "outputs": [],
   "source": [
    "import string\n",
    "import random\n",
    "\n",
    "password_dict=dict()\n",
    "Websites=['Netflix','Youtube','Github','Codewars','Facebook','Tinder']\n",
    "def password_generator():\n",
    "    password_combination = string.ascii_letters + string.digits + string.punctuation\n",
    "    while True:\n",
    "        ask = True\n",
    "        while ask:\n",
    "            length_1 = input(\"something please: \")\n",
    "            try:\n",
    "                length_1 = int(length_1)\n",
    "            except:\n",
    "                continue\n",
    "            else:\n",
    "                if length_1<8:\n",
    "                    print('No! Please, choose a length higher or equal to 8. ')\n",
    "                elif length_1>90:\n",
    "                    print('Hey! Not so far! We can not build such a big unique password! :(')\n",
    "                else:\n",
    "                    while True:\n",
    "                        ask = True\n",
    "                        while ask:\n",
    "                            options= input(\"Please tell me how many options you would like to have: \")\n",
    "                            try:\n",
    "                                options= int(options)\n",
    "                            except:\n",
    "                                continue\n",
    "                            else:\n",
    "                                if options>10:\n",
    "                                    print('Stop tiring your poor computer, we cannot create more than 10 options for you at once!')\n",
    "                                else:\n",
    "                                    password = [''.join(random.sample(password_combination, length_1)) for i in range(options)]\n",
    "                                    password_dict=dict(zip(Websites,password))\n",
    "                                    print(password) \n",
    "                                    print(password_dict)\n",
    "                                    return password, password_dict\n",
    "\n",
    "    "
   ]
  },
  {
   "cell_type": "code",
   "execution_count": 2,
   "metadata": {},
   "outputs": [
    {
     "name": "stdout",
     "output_type": "stream",
     "text": [
      "something please: 6\n",
      "No! Please, choose a length higher or equal to 8. \n",
      "something please: 19\n",
      "Please tell me how many options you would like to have: 6\n",
      "['u:-JKkVHD&6lg9G}ixv', 'PiNu!H,5jIAn7\"geo-w', 'iZ,%<Q>sd\"_@7|rKW;x', '|Zi(g2c9S7_HU:4>Db$', '9yMNGmwbXOg.I-ef=ZR', 'agO/oYyh*|#%T}F6N`S']\n",
      "{'Netflix': 'u:-JKkVHD&6lg9G}ixv', 'Youtube': 'PiNu!H,5jIAn7\"geo-w', 'Github': 'iZ,%<Q>sd\"_@7|rKW;x', 'Codewars': '|Zi(g2c9S7_HU:4>Db$', 'Facebook': '9yMNGmwbXOg.I-ef=ZR', 'Tinder': 'agO/oYyh*|#%T}F6N`S'}\n"
     ]
    },
    {
     "data": {
      "text/plain": [
       "(['u:-JKkVHD&6lg9G}ixv',\n",
       "  'PiNu!H,5jIAn7\"geo-w',\n",
       "  'iZ,%<Q>sd\"_@7|rKW;x',\n",
       "  '|Zi(g2c9S7_HU:4>Db$',\n",
       "  '9yMNGmwbXOg.I-ef=ZR',\n",
       "  'agO/oYyh*|#%T}F6N`S'],\n",
       " {'Netflix': 'u:-JKkVHD&6lg9G}ixv',\n",
       "  'Youtube': 'PiNu!H,5jIAn7\"geo-w',\n",
       "  'Github': 'iZ,%<Q>sd\"_@7|rKW;x',\n",
       "  'Codewars': '|Zi(g2c9S7_HU:4>Db$',\n",
       "  'Facebook': '9yMNGmwbXOg.I-ef=ZR',\n",
       "  'Tinder': 'agO/oYyh*|#%T}F6N`S'})"
      ]
     },
     "execution_count": 2,
     "metadata": {},
     "output_type": "execute_result"
    }
   ],
   "source": [
    "password_generator()"
   ]
  },
  {
   "cell_type": "code",
   "execution_count": 34,
   "metadata": {},
   "outputs": [
    {
     "ename": "NameError",
     "evalue": "name 'password' is not defined",
     "output_type": "error",
     "traceback": [
      "\u001b[1;31m---------------------------------------------------------------------------\u001b[0m",
      "\u001b[1;31mNameError\u001b[0m                                 Traceback (most recent call last)",
      "\u001b[1;32m<ipython-input-34-24c9c7cb64d4>\u001b[0m in \u001b[0;36m<module>\u001b[1;34m\u001b[0m\n\u001b[0;32m      1\u001b[0m \u001b[0mpassword_dict\u001b[0m\u001b[1;33m=\u001b[0m\u001b[0mdict\u001b[0m\u001b[1;33m(\u001b[0m\u001b[1;33m)\u001b[0m\u001b[1;33m\u001b[0m\u001b[1;33m\u001b[0m\u001b[0m\n\u001b[0;32m      2\u001b[0m \u001b[0mWebsites\u001b[0m\u001b[1;33m=\u001b[0m\u001b[1;33m[\u001b[0m\u001b[1;34m'Netflix'\u001b[0m\u001b[1;33m,\u001b[0m\u001b[1;34m'Youtube'\u001b[0m\u001b[1;33m,\u001b[0m\u001b[1;34m'Github'\u001b[0m\u001b[1;33m,\u001b[0m\u001b[1;34m'Codewars'\u001b[0m\u001b[1;33m,\u001b[0m\u001b[1;34m'Facebook'\u001b[0m\u001b[1;33m,\u001b[0m\u001b[1;34m'Tinder'\u001b[0m\u001b[1;33m]\u001b[0m\u001b[1;33m\u001b[0m\u001b[1;33m\u001b[0m\u001b[0m\n\u001b[1;32m----> 3\u001b[1;33m \u001b[0mpassword_dict\u001b[0m\u001b[1;33m=\u001b[0m\u001b[0mdict\u001b[0m\u001b[1;33m(\u001b[0m\u001b[0mzip\u001b[0m\u001b[1;33m(\u001b[0m\u001b[0mWebsites\u001b[0m\u001b[1;33m,\u001b[0m\u001b[0mpassword\u001b[0m\u001b[1;33m)\u001b[0m\u001b[1;33m)\u001b[0m\u001b[1;33m\u001b[0m\u001b[1;33m\u001b[0m\u001b[0m\n\u001b[0m\u001b[0;32m      4\u001b[0m \u001b[0mprint\u001b[0m\u001b[1;33m(\u001b[0m\u001b[0mpassword_dict\u001b[0m\u001b[1;33m)\u001b[0m\u001b[1;33m\u001b[0m\u001b[1;33m\u001b[0m\u001b[0m\n\u001b[0;32m      5\u001b[0m \u001b[1;33m\u001b[0m\u001b[0m\n",
      "\u001b[1;31mNameError\u001b[0m: name 'password' is not defined"
     ]
    }
   ],
   "source": [
    "password_dict=dict()\n",
    "Websites=['Netflix','Youtube','Github','Codewars','Facebook','Tinder']\n",
    "password_dict=dict(zip(Websites,password))\n",
    "print(password_dict)\n",
    "\n"
   ]
  },
  {
   "cell_type": "code",
   "execution_count": null,
   "metadata": {},
   "outputs": [],
   "source": [
    "def get_a_num():\n",
    "    ask = True\n",
    "\n",
    "    while ask:\n",
    "        num = input(\"number please\")\n",
    "        try:\n",
    "            num = int(num) # computer will attempt to run this code\n",
    "        except:\n",
    "            continue # this will run if the computer run into an error during \"try\" stage\n",
    "        else:# this will run if the computer didn't have any error in the \"try \" stage\n",
    "            if num < 8:\n",
    "                continue\n",
    "            else:\n",
    "                return num # return will stop the function and in this situation the loop as well. but when this is run outside a function, use break to break the loop or update ask=False"
   ]
  },
  {
   "cell_type": "code",
   "execution_count": 1,
   "metadata": {},
   "outputs": [],
   "source": [
    "import string\n",
    "import random\n",
    "\n",
    "password_dict=dict()\n",
    "def password_generator():\n",
    "    Websites=input('What is your password for? ')\n",
    "    password_combination = string.ascii_letters + string.digits + string.punctuation\n",
    "    while True:\n",
    "        ask = True\n",
    "        while ask:\n",
    "            length_1 = input(\"Insert length please (should be higher or equal to 8): \")\n",
    "            try:\n",
    "                length_1 = int(length_1)\n",
    "            except:\n",
    "                continue\n",
    "            else:\n",
    "                if length_1<8:\n",
    "                    print('No! Please, choose a length higher or equal to 8. ')\n",
    "                elif length_1>90:\n",
    "                    print('Hey! Not so far! We can not build such a big unique password! :(')\n",
    "                else:\n",
    "                    while True:\n",
    "                        ask = True\n",
    "                        while ask:\n",
    "                            options= input(\"Please tell me how many options you would like to have: \")\n",
    "                            try:\n",
    "                                options= int(options)\n",
    "                            except:\n",
    "                                continue\n",
    "                            else:\n",
    "                                if options>10:\n",
    "                                    print('Stop tiring your poor computer, we cannot create more than 10 options for you at once!')\n",
    "                                else:\n",
    "                                    password = [''.join(random.sample(password_combination, length_1)) for i in range(options)]\n",
    "                                    print(password)\n",
    "                                    # ask them to select which password option they want to have: 1-6 i=input> put into int, then subtract 1\n",
    "                                    ask2=True\n",
    "                                    while ask2:\n",
    "                                        choice = input(\"Please indicate which password you would like to use, e.g. first option = 1, second option = 2 etc. \")\n",
    "                                        try:\n",
    "                                            choice = int(choice)-1\n",
    "                                        except:\n",
    "                                            continue\n",
    "                                        else:\n",
    "                                            password_dict[Websites]=password[choice]\n",
    "                                            print(password) \n",
    "                                            print(password_dict)\n",
    "                                            return password_dict"
   ]
  },
  {
   "cell_type": "code",
   "execution_count": 2,
   "metadata": {},
   "outputs": [
    {
     "name": "stdout",
     "output_type": "stream",
     "text": [
      "What is your password for? Github\n",
      "Insert length please (should be higher or equal to 8): 9\n",
      "Please tell me how many options you would like to have: 8\n",
      "['/#41@A<8%', \"=~I.'O*uQ\", 'awd!LUb4.', \"31a[|Rz?'\", 'kwmhB!Sfz', 'e(XL*0`qM', '}J,cX@m/#', 'kCyo6.h3+']\n",
      "Please indicate which password you would like to use, e.g. first option = 1, second option = 2 etc. 4\n",
      "['/#41@A<8%', \"=~I.'O*uQ\", 'awd!LUb4.', \"31a[|Rz?'\", 'kwmhB!Sfz', 'e(XL*0`qM', '}J,cX@m/#', 'kCyo6.h3+']\n",
      "{'Github': \"31a[|Rz?'\"}\n"
     ]
    },
    {
     "data": {
      "text/plain": [
       "{'Github': \"31a[|Rz?'\"}"
      ]
     },
     "execution_count": 2,
     "metadata": {},
     "output_type": "execute_result"
    }
   ],
   "source": [
    "password_generator()"
   ]
  },
  {
   "cell_type": "code",
   "execution_count": null,
   "metadata": {},
   "outputs": [],
   "source": [
    "# Improvements:\n",
    "# to save password to local drive\n",
    "# how to design simplified password, simple but with special patterns so that password is difficult to crack"
   ]
  }
 ],
 "metadata": {
  "kernelspec": {
   "display_name": "Python 3",
   "language": "python",
   "name": "python3"
  },
  "language_info": {
   "codemirror_mode": {
    "name": "ipython",
    "version": 3
   },
   "file_extension": ".py",
   "mimetype": "text/x-python",
   "name": "python",
   "nbconvert_exporter": "python",
   "pygments_lexer": "ipython3",
   "version": "3.7.6"
  }
 },
 "nbformat": 4,
 "nbformat_minor": 4
}
