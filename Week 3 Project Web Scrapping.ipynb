{
 "cells": [
  {
   "cell_type": "code",
   "execution_count": 1,
   "metadata": {},
   "outputs": [],
   "source": [
    "import requests as r\n",
    "import pandas as pd\n",
    "from bs4 import BeautifulSoup"
   ]
  },
  {
   "cell_type": "code",
   "execution_count": 2,
   "metadata": {},
   "outputs": [
    {
     "name": "stdout",
     "output_type": "stream",
     "text": [
      "page number 1 is done\n",
      "page number 2 is done\n",
      "page number 3 is done\n",
      "page number 4 is done\n",
      "page number 5 is done\n",
      "page number 6 is done\n",
      "page number 7 is done\n",
      "page number 8 is done\n",
      "page number 9 is done\n",
      "page number 10 is done\n",
      "page number 11 is done\n",
      "page number 12 is done\n",
      "page number 13 is done\n",
      "page number 14 is done\n"
     ]
    }
   ],
   "source": [
    "\n",
    "PAP= pd.DataFrame()\n",
    "\n",
    "\n",
    "for i in range(1,15):\n",
    "    url=f'https://www.pap.fr/annonce/locations-appartement-paris-75-g439g39073g39154-du-studio-au-2-pieces-{i}'\n",
    "    headers=f\"\"\"Accept: text/html, */*; q=0.01\n",
    "Accept-Encoding: gzip, deflate, br\n",
    "Accept-Language: en-US,en;q=0.9\n",
    "Cache-Control: no-cache\n",
    "Connection: keep-alive\n",
    "Cookie: lang=fr; acceptcookies=1; cnil=1; derniere_recherche=%7B%22produit%22%3A%22location%22%2C%22typesbien%22%3A%5B%22appartement%22%5D%2C%22nb_pieces%22%3A%7B%22min%22%3A1%2C%22max%22%3A2%7D%2C%22nb_chambres%22%3A%7B%22min%22%3Anull%2C%22max%22%3Anull%7D%2C%22prix%22%3A%7B%22min%22%3Anull%2C%22max%22%3Anull%7D%2C%22surface%22%3A%7B%22min%22%3Anull%2C%22max%22%3Anull%7D%2C%22surface_terrain%22%3A%7B%22min%22%3Anull%2C%22max%22%3Anull%7D%2C%22geo_objets%22%3A%5B439%2C39073%2C39154%5D%7D\n",
    "Host: www.pap.fr\n",
    "Pragma: no-cache\n",
    "Referer: https://www.pap.fr/annonce/locations-appartement-paris-75-g439g39073g39154-du-studio-au-2-pieces-{i-1}\n",
    "Sec-Fetch-Dest: empty\n",
    "Sec-Fetch-Mode: cors\n",
    "Sec-Fetch-Site: same-origin\n",
    "User-Agent: Mozilla/5.0 (Windows NT 10.0; Win64; x64) AppleWebKit/537.36 (KHTML, like Gecko) Chrome/87.0.4280.66 Safari/537.36\n",
    "X-Requested-With: XMLHttpRequest\"\"\"\n",
    "    headers=dict([i.split(': ') for i in headers.split('\\n')])\n",
    "    soup=BeautifulSoup(r.get(url, headers=headers).content)\n",
    "    location=[i.text.strip(\"\\n\\t \") for i in soup.select('div.item-body span.h1')]\n",
    "    rooms=[i.select('li:contains(\"pièce\")')[0].text[:1] if i.select('li:contains(\"pièce\")') else \"0\" for i in soup.select('ul.item-tags')]\n",
    "    sqm=[i.select('li:has(small)')[0].text.rstrip('m2') if i.select('li:has(small)') else \"0\" for i in soup.select('ul.item-tags')]\n",
    "    bedrooms=[[j.text.rstrip(' chambre').rstrip(' chambres') for j in i.select('li:contains(\"chambre\")')][0] if [j.text for j in i.select('li:contains(\"chambre\")')] else \"0\" for i in soup.select('ul.item-tags')]\n",
    "    rental_price = [i.text.strip(\"\\n\\t€\").replace('\\xa0','') for i in soup.select('span.item-price')]\n",
    "    description=[i.text.strip(\"\\n\\t \").replace('\\n',' ') for i in soup.select('p.item-description')]\n",
    "    links=[i.get('href') for i in soup.select('div.item-body a')]\n",
    "    df = {'Location':location , 'NumberofRooms': rooms , 'Space_sqm': sqm, 'NumberofBedrooms': bedrooms, 'RentalPrice_€': rental_price, 'Description':description, 'Links':links } \n",
    "    df = pd.DataFrame.from_dict(df) \n",
    "    PAP=PAP.append(df)\n",
    "    print('page number', i, 'is done')\n"
   ]
  },
  {
   "cell_type": "code",
   "execution_count": 3,
   "metadata": {},
   "outputs": [
    {
     "data": {
      "text/plain": [
       "Location            0\n",
       "NumberofRooms       0\n",
       "Space_sqm           0\n",
       "NumberofBedrooms    0\n",
       "RentalPrice_€       0\n",
       "Description         0\n",
       "Links               0\n",
       "dtype: int64"
      ]
     },
     "execution_count": 3,
     "metadata": {},
     "output_type": "execute_result"
    }
   ],
   "source": [
    "PAP.isna().sum()"
   ]
  },
  {
   "cell_type": "code",
   "execution_count": 4,
   "metadata": {},
   "outputs": [
    {
     "data": {
      "text/plain": [
       "0    -1\n",
       "1    -1\n",
       "2    -1\n",
       "3    -1\n",
       "4    -1\n",
       "     ..\n",
       "10   -1\n",
       "11   -1\n",
       "12   -1\n",
       "13   -1\n",
       "14   -1\n",
       "Name: NumberofBedrooms, Length: 210, dtype: int32"
      ]
     },
     "execution_count": 4,
     "metadata": {},
     "output_type": "execute_result"
    }
   ],
   "source": [
    "PAP['NumberofBedrooms'].str.find('chambres').astype(int)"
   ]
  },
  {
   "cell_type": "code",
   "execution_count": 5,
   "metadata": {},
   "outputs": [
    {
     "data": {
      "text/plain": [
       "Location            object\n",
       "NumberofRooms       object\n",
       "Space_sqm           object\n",
       "NumberofBedrooms    object\n",
       "RentalPrice_€       object\n",
       "Description         object\n",
       "Links               object\n",
       "dtype: object"
      ]
     },
     "execution_count": 5,
     "metadata": {},
     "output_type": "execute_result"
    }
   ],
   "source": [
    "PAP.dtypes"
   ]
  },
  {
   "cell_type": "code",
   "execution_count": 6,
   "metadata": {},
   "outputs": [
    {
     "data": {
      "text/html": [
       "<div>\n",
       "<style scoped>\n",
       "    .dataframe tbody tr th:only-of-type {\n",
       "        vertical-align: middle;\n",
       "    }\n",
       "\n",
       "    .dataframe tbody tr th {\n",
       "        vertical-align: top;\n",
       "    }\n",
       "\n",
       "    .dataframe thead th {\n",
       "        text-align: right;\n",
       "    }\n",
       "</style>\n",
       "<table border=\"1\" class=\"dataframe\">\n",
       "  <thead>\n",
       "    <tr style=\"text-align: right;\">\n",
       "      <th></th>\n",
       "      <th>Location</th>\n",
       "      <th>NumberofRooms</th>\n",
       "      <th>Space_sqm</th>\n",
       "      <th>NumberofBedrooms</th>\n",
       "      <th>RentalPrice_€</th>\n",
       "      <th>Description</th>\n",
       "      <th>Links</th>\n",
       "    </tr>\n",
       "  </thead>\n",
       "  <tbody>\n",
       "    <tr>\n",
       "      <th>0</th>\n",
       "      <td>Paris 17E (75017)</td>\n",
       "      <td>1</td>\n",
       "      <td>16</td>\n",
       "      <td>1</td>\n",
       "      <td>750</td>\n",
       "      <td>Porte Maillot tout près du métro très bien des...</td>\n",
       "      <td>/annonces/appartement-paris-17e-75017-r433800017</td>\n",
       "    </tr>\n",
       "    <tr>\n",
       "      <th>1</th>\n",
       "      <td>Paris 2E (75002)</td>\n",
       "      <td>2</td>\n",
       "      <td>30</td>\n",
       "      <td>1</td>\n",
       "      <td>1.000</td>\n",
       "      <td>Appartement  30m2,  rue Saint Denis  6ème étag...</td>\n",
       "      <td>/annonces/appartement-paris-2e-75002-r434301833</td>\n",
       "    </tr>\n",
       "    <tr>\n",
       "      <th>2</th>\n",
       "      <td>Paris 18E (75018)</td>\n",
       "      <td>2</td>\n",
       "      <td>35</td>\n",
       "      <td>1</td>\n",
       "      <td>1.400</td>\n",
       "      <td>Magnifique appartement meublé 2 pièces 35m². A...</td>\n",
       "      <td>/annonces/appartement-paris-18e-75018-r435000161</td>\n",
       "    </tr>\n",
       "    <tr>\n",
       "      <th>3</th>\n",
       "      <td>Paris 2E (75002)</td>\n",
       "      <td>1</td>\n",
       "      <td>12</td>\n",
       "      <td>0</td>\n",
       "      <td>695</td>\n",
       "      <td>**Studio calme et lumineux**, situé au 6e étag...</td>\n",
       "      <td>/annonces/appartement-paris-2e-75002-r433201605</td>\n",
       "    </tr>\n",
       "    <tr>\n",
       "      <th>4</th>\n",
       "      <td>Paris 5E</td>\n",
       "      <td>2</td>\n",
       "      <td>50</td>\n",
       "      <td>1</td>\n",
       "      <td>2.300</td>\n",
       "      <td>Uniquement Bail de résidence secondaire (pas d...</td>\n",
       "      <td>/annonces/appartement-paris-5e-r431900324</td>\n",
       "    </tr>\n",
       "    <tr>\n",
       "      <th>...</th>\n",
       "      <td>...</td>\n",
       "      <td>...</td>\n",
       "      <td>...</td>\n",
       "      <td>...</td>\n",
       "      <td>...</td>\n",
       "      <td>...</td>\n",
       "      <td>...</td>\n",
       "    </tr>\n",
       "    <tr>\n",
       "      <th>10</th>\n",
       "      <td>Paris 10E</td>\n",
       "      <td>1</td>\n",
       "      <td>29</td>\n",
       "      <td>0</td>\n",
       "      <td>1.250</td>\n",
       "      <td>Grand studio meublé de 28,5m2 entièrement équi...</td>\n",
       "      <td>/annonces/appartement-paris-10e-r425800947</td>\n",
       "    </tr>\n",
       "    <tr>\n",
       "      <th>11</th>\n",
       "      <td>Paris 13E</td>\n",
       "      <td>2</td>\n",
       "      <td>37</td>\n",
       "      <td>1</td>\n",
       "      <td>1.300</td>\n",
       "      <td>Libre au 15 janvier (éventuellement dès le  13...</td>\n",
       "      <td>/annonces/appartement-paris-13e-r423200172</td>\n",
       "    </tr>\n",
       "    <tr>\n",
       "      <th>12</th>\n",
       "      <td>Paris 14E</td>\n",
       "      <td>2</td>\n",
       "      <td>32</td>\n",
       "      <td>1</td>\n",
       "      <td>1.280</td>\n",
       "      <td>Métro Alésia, proche commerces.  2 pièces 32 m...</td>\n",
       "      <td>/annonces/appartement-paris-14e-r401801556</td>\n",
       "    </tr>\n",
       "    <tr>\n",
       "      <th>13</th>\n",
       "      <td>Paris 14E</td>\n",
       "      <td>2</td>\n",
       "      <td>44</td>\n",
       "      <td>1</td>\n",
       "      <td>1.750</td>\n",
       "      <td>Métro Denfert-Rochereau, Montparnasse, rue Dag...</td>\n",
       "      <td>/annonces/appartement-paris-14e-r434401199</td>\n",
       "    </tr>\n",
       "    <tr>\n",
       "      <th>14</th>\n",
       "      <td>Paris 15E (75015)</td>\n",
       "      <td>1</td>\n",
       "      <td>35</td>\n",
       "      <td>0</td>\n",
       "      <td>1.550</td>\n",
       "      <td>Idéal homme d'affaire soigneux. **Prestations ...</td>\n",
       "      <td>/annonces/appartement-paris-15e-75015-r433300494</td>\n",
       "    </tr>\n",
       "  </tbody>\n",
       "</table>\n",
       "<p>210 rows × 7 columns</p>\n",
       "</div>"
      ],
      "text/plain": [
       "             Location NumberofRooms Space_sqm NumberofBedrooms RentalPrice_€  \\\n",
       "0   Paris 17E (75017)             1       16                 1           750   \n",
       "1    Paris 2E (75002)             2       30                 1         1.000   \n",
       "2   Paris 18E (75018)             2       35                 1         1.400   \n",
       "3    Paris 2E (75002)             1       12                 0           695   \n",
       "4            Paris 5E             2       50                 1         2.300   \n",
       "..                ...           ...       ...              ...           ...   \n",
       "10          Paris 10E             1       29                 0         1.250   \n",
       "11          Paris 13E             2       37                 1         1.300   \n",
       "12          Paris 14E             2       32                 1         1.280   \n",
       "13          Paris 14E             2       44                 1         1.750   \n",
       "14  Paris 15E (75015)             1       35                 0         1.550   \n",
       "\n",
       "                                          Description  \\\n",
       "0   Porte Maillot tout près du métro très bien des...   \n",
       "1   Appartement  30m2,  rue Saint Denis  6ème étag...   \n",
       "2   Magnifique appartement meublé 2 pièces 35m². A...   \n",
       "3   **Studio calme et lumineux**, situé au 6e étag...   \n",
       "4   Uniquement Bail de résidence secondaire (pas d...   \n",
       "..                                                ...   \n",
       "10  Grand studio meublé de 28,5m2 entièrement équi...   \n",
       "11  Libre au 15 janvier (éventuellement dès le  13...   \n",
       "12  Métro Alésia, proche commerces.  2 pièces 32 m...   \n",
       "13  Métro Denfert-Rochereau, Montparnasse, rue Dag...   \n",
       "14  Idéal homme d'affaire soigneux. **Prestations ...   \n",
       "\n",
       "                                               Links  \n",
       "0   /annonces/appartement-paris-17e-75017-r433800017  \n",
       "1    /annonces/appartement-paris-2e-75002-r434301833  \n",
       "2   /annonces/appartement-paris-18e-75018-r435000161  \n",
       "3    /annonces/appartement-paris-2e-75002-r433201605  \n",
       "4          /annonces/appartement-paris-5e-r431900324  \n",
       "..                                               ...  \n",
       "10        /annonces/appartement-paris-10e-r425800947  \n",
       "11        /annonces/appartement-paris-13e-r423200172  \n",
       "12        /annonces/appartement-paris-14e-r401801556  \n",
       "13        /annonces/appartement-paris-14e-r434401199  \n",
       "14  /annonces/appartement-paris-15e-75015-r433300494  \n",
       "\n",
       "[210 rows x 7 columns]"
      ]
     },
     "execution_count": 6,
     "metadata": {},
     "output_type": "execute_result"
    }
   ],
   "source": [
    "PAP"
   ]
  },
  {
   "cell_type": "code",
   "execution_count": 7,
   "metadata": {},
   "outputs": [
    {
     "data": {
      "text/plain": [
       "Location             45\n",
       "NumberofRooms         2\n",
       "Space_sqm            52\n",
       "NumberofBedrooms      2\n",
       "RentalPrice_€       107\n",
       "Description         202\n",
       "Links               202\n",
       "dtype: int64"
      ]
     },
     "execution_count": 7,
     "metadata": {},
     "output_type": "execute_result"
    }
   ],
   "source": [
    "PAP.nunique()"
   ]
  },
  {
   "cell_type": "code",
   "execution_count": 8,
   "metadata": {},
   "outputs": [
    {
     "data": {
      "text/plain": [
       "-210"
      ]
     },
     "execution_count": 8,
     "metadata": {},
     "output_type": "execute_result"
    }
   ],
   "source": [
    "PAP['NumberofBedrooms'].str.find('chambres').sum() # failure"
   ]
  },
  {
   "cell_type": "code",
   "execution_count": 9,
   "metadata": {},
   "outputs": [],
   "source": [
    "import re"
   ]
  },
  {
   "cell_type": "code",
   "execution_count": 10,
   "metadata": {},
   "outputs": [],
   "source": [
    "PAP.Location.replace(r'\\([0-9]{5}\\)','',regex=True, inplace = True) # adding '^'in the front and '$' at the end only for the exact length of character you are searching in the string."
   ]
  },
  {
   "cell_type": "code",
   "execution_count": 30,
   "metadata": {},
   "outputs": [
    {
     "data": {
      "text/plain": [
       "Paris 15E                             13\n",
       "Paris 16E                             12\n",
       "Paris 16E                             11\n",
       "Paris 17E                             11\n",
       "Paris 17E                             10\n",
       "Paris 13E                             10\n",
       "Paris 18E                              8\n",
       "Paris 5E                               7\n",
       "Paris                                  7\n",
       "Paris 11E                              7\n",
       "Paris 8E                               6\n",
       "Paris 14E                              6\n",
       "Paris 20E                              6\n",
       "Paris 8E                               5\n",
       "Paris 13E                              5\n",
       "Paris 15E                              5\n",
       "Paris 3E                               5\n",
       "Paris 10E                              5\n",
       "Paris 2E                               5\n",
       "Paris 10E                              5\n",
       "Paris 18E                              5\n",
       "Paris 5E                               5\n",
       "Paris 7E                               4\n",
       "Paris 1Er                              4\n",
       "Paris 19E                              4\n",
       "Paris 12E                              4\n",
       "Paris 4E                               3\n",
       "Paris 7E                               3\n",
       "Paris 2E                               3\n",
       "Paris 14E                              3\n",
       "Paris 20E                              3\n",
       "Paris 11E                              2\n",
       "Paris 4E                               2\n",
       "Paris 9E                               2\n",
       "Paris 9E                               2\n",
       "Paris 6E                               2\n",
       "Paris 6E                               2\n",
       "Paris 19E                              2\n",
       "Paris 5E - Quartier Mouffetard         1\n",
       "Paris 16E (Avenue Foch)                1\n",
       "Paris 12E                              1\n",
       "Paris13                                1\n",
       "Proche Parc Montsouris - Paris 14E     1\n",
       "Paris 1Er                              1\n",
       "Name: Location, dtype: int64"
      ]
     },
     "execution_count": 30,
     "metadata": {},
     "output_type": "execute_result"
    }
   ],
   "source": [
    "PAP.Location.value_counts()"
   ]
  },
  {
   "cell_type": "code",
   "execution_count": 28,
   "metadata": {},
   "outputs": [
    {
     "ename": "NameError",
     "evalue": "name 'Location' is not defined",
     "output_type": "error",
     "traceback": [
      "\u001b[1;31m---------------------------------------------------------------------------\u001b[0m",
      "\u001b[1;31mNameError\u001b[0m                                 Traceback (most recent call last)",
      "\u001b[1;32m<ipython-input-28-3d22f10c4d00>\u001b[0m in \u001b[0;36m<module>\u001b[1;34m\u001b[0m\n\u001b[1;32m----> 1\u001b[1;33m \u001b[0mmap\u001b[0m\u001b[1;33m(\u001b[0m\u001b[0mstr\u001b[0m\u001b[1;33m.\u001b[0m\u001b[0msplit\u001b[0m\u001b[1;33m,\u001b[0m \u001b[0mLocation\u001b[0m\u001b[1;33m)\u001b[0m\u001b[1;33m\u001b[0m\u001b[1;33m\u001b[0m\u001b[0m\n\u001b[0m",
      "\u001b[1;31mNameError\u001b[0m: name 'Location' is not defined"
     ]
    }
   ],
   "source": [
    "map(str.split, Location)"
   ]
  },
  {
   "cell_type": "code",
   "execution_count": 16,
   "metadata": {},
   "outputs": [],
   "source": [
    "def clean_currency(x):\n",
    "    \"\"\" If the value is a string, then remove delimiters otherwise, the value is numeric and can be converted\n",
    "    \"\"\"\n",
    "    if isinstance(x, str): #https://www.programiz.com/python-programming/methods/built-in/isinstance\n",
    "        return(x.replace('.', ''))\n",
    "    return(x) # if x is not string, return x"
   ]
  },
  {
   "cell_type": "code",
   "execution_count": 29,
   "metadata": {},
   "outputs": [],
   "source": [
    "PAP['RentalPrice_€'] = PAP['RentalPrice_€'].apply(clean_currency).astype('float')"
   ]
  },
  {
   "cell_type": "code",
   "execution_count": 18,
   "metadata": {},
   "outputs": [],
   "source": [
    "# ISSUE\n",
    "split_data = PAP[\"Location\"].str.split(\" \")\n",
    "data = split_data.to_list()\n",
    "names = [\"City\", \"Arrondissement\",\"Zipcode\"]\n",
    "new_df = pd.DataFrame(data, columns=names)"
   ]
  },
  {
   "cell_type": "code",
   "execution_count": 19,
   "metadata": {},
   "outputs": [
    {
     "data": {
      "text/plain": [
       "0      750.0\n",
       "1     1000.0\n",
       "2     1400.0\n",
       "3      695.0\n",
       "4     2300.0\n",
       "       ...  \n",
       "10    1250.0\n",
       "11    1300.0\n",
       "12    1280.0\n",
       "13    1750.0\n",
       "14    1550.0\n",
       "Name: RentalPrice_€, Length: 210, dtype: float64"
      ]
     },
     "execution_count": 19,
     "metadata": {},
     "output_type": "execute_result"
    }
   ],
   "source": [
    "PAP['RentalPrice_€']"
   ]
  },
  {
   "cell_type": "code",
   "execution_count": 20,
   "metadata": {},
   "outputs": [],
   "source": [
    "# PAP.drop(columns='Location', axis=1)"
   ]
  },
  {
   "cell_type": "code",
   "execution_count": 21,
   "metadata": {},
   "outputs": [],
   "source": [
    "# PAP['Arrondissement']=PAP['Arrondissement'].str.rstrip('r')"
   ]
  },
  {
   "cell_type": "code",
   "execution_count": 22,
   "metadata": {},
   "outputs": [],
   "source": [
    "PAP.to_csv('PAP1',sep=\";\")"
   ]
  },
  {
   "cell_type": "code",
   "execution_count": 23,
   "metadata": {},
   "outputs": [],
   "source": [
    "import pymysql\n",
    "from sqlalchemy import create_engine\n",
    "import getpass"
   ]
  },
  {
   "cell_type": "code",
   "execution_count": 24,
   "metadata": {},
   "outputs": [
    {
     "name": "stdout",
     "output_type": "stream",
     "text": [
      "········\n"
     ]
    }
   ],
   "source": [
    "Hostname='localhost'\n",
    "username='root'\n",
    "password=getpass.getpass()\n",
    "database='pap'"
   ]
  },
  {
   "cell_type": "code",
   "execution_count": 25,
   "metadata": {},
   "outputs": [],
   "source": [
    "engine=create_engine(f\"mysql+pymysql://{username}:{password}@{Hostname}/{database}\")"
   ]
  },
  {
   "cell_type": "code",
   "execution_count": 27,
   "metadata": {},
   "outputs": [],
   "source": [
    "#ISSUE:\n",
    "PAP.to_sql('pap6', engine)"
   ]
  },
  {
   "cell_type": "code",
   "execution_count": 189,
   "metadata": {},
   "outputs": [],
   "source": [
    "# test=[[1,2], [23,3],[17,24]]\n",
    "# [i[0] for i in test]"
   ]
  },
  {
   "cell_type": "code",
   "execution_count": 158,
   "metadata": {},
   "outputs": [],
   "source": [
    "# rental_price = [i.text.strip(\"\\n\\t\").replace('\\xa0','') for i in soup.select('span.item-price')]\n",
    "# [i.select('li:contains(\"pièce\")')[0].text if i.select('li:contains(\"pièce\")') else \"unknown\" for i in soup.select('ul.item-tags')]"
   ]
  },
  {
   "cell_type": "code",
   "execution_count": 162,
   "metadata": {},
   "outputs": [],
   "source": [
    "# description=[i.text.strip(\"\\n\\t \").replace('\\n',' ') for i in soup.select('p.item-description')]\n",
    "# [[j.text for j in i.select('li:contains(\"chambre\")')][0] if [j.text for j in i.select('li:contains(\"chambre\")')] else \"0\" for i in soup.select('ul.item-tags') ]"
   ]
  },
  {
   "cell_type": "code",
   "execution_count": 301,
   "metadata": {},
   "outputs": [],
   "source": [
    "# links=[i.get('href') for i in soup.select('div.item-body a')]\n",
    "# [i.select('li:has(small)')[0].text if i.select('li:has(small)') else \"unknown\" for i in soup.select('ul.item-tags')]"
   ]
  },
  {
   "cell_type": "code",
   "execution_count": null,
   "metadata": {},
   "outputs": [],
   "source": [
    "# [[j.text for j in i.select('li:contains(\"chambre\")')][0] for i in soup.select('ul.item-tags') if [j.text for j in i.select('li:contains(\"chambre\")')]]"
   ]
  }
 ],
 "metadata": {
  "kernelspec": {
   "display_name": "Python 3",
   "language": "python",
   "name": "python3"
  },
  "language_info": {
   "codemirror_mode": {
    "name": "ipython",
    "version": 3
   },
   "file_extension": ".py",
   "mimetype": "text/x-python",
   "name": "python",
   "nbconvert_exporter": "python",
   "pygments_lexer": "ipython3",
   "version": "3.7.6"
  }
 },
 "nbformat": 4,
 "nbformat_minor": 4
}
